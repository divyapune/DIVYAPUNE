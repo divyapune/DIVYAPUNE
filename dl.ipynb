{
  "nbformat": 4,
  "nbformat_minor": 0,
  "metadata": {
    "colab": {
      "provenance": [],
      "gpuType": "T4",
      "authorship_tag": "ABX9TyMxcBgS4sM0HovU8XetaJ73",
      "include_colab_link": true
    },
    "kernelspec": {
      "name": "python3",
      "display_name": "Python 3"
    },
    "language_info": {
      "name": "python"
    },
    "accelerator": "GPU"
  },
  "cells": [
    {
      "cell_type": "markdown",
      "metadata": {
        "id": "view-in-github",
        "colab_type": "text"
      },
      "source": [
        "<a href=\"https://colab.research.google.com/github/divyapune/DIVYAPUNE/blob/main/dl.ipynb\" target=\"_parent\"><img src=\"https://colab.research.google.com/assets/colab-badge.svg\" alt=\"Open In Colab\"/></a>"
      ]
    },
    {
      "cell_type": "code",
      "execution_count": 1,
      "metadata": {
        "colab": {
          "base_uri": "https://localhost:8080/"
        },
        "id": "Miymug1m7d9s",
        "outputId": "048a5af8-9d86-47d5-8845-bc4b1d32e3ec"
      },
      "outputs": [
        {
          "output_type": "stream",
          "name": "stdout",
          "text": [
            "Downloading from https://www.kaggle.com/api/v1/datasets/download/abdelghaniaaba/wildfire-prediction-dataset?dataset_version_number=1...\n"
          ]
        },
        {
          "output_type": "stream",
          "name": "stderr",
          "text": [
            "100%|██████████| 1.45G/1.45G [01:05<00:00, 23.6MB/s]"
          ]
        },
        {
          "output_type": "stream",
          "name": "stdout",
          "text": [
            "Extracting files...\n"
          ]
        },
        {
          "output_type": "stream",
          "name": "stderr",
          "text": [
            "\n"
          ]
        },
        {
          "output_type": "stream",
          "name": "stdout",
          "text": [
            "Path to dataset files: /root/.cache/kagglehub/datasets/abdelghaniaaba/wildfire-prediction-dataset/versions/1\n"
          ]
        }
      ],
      "source": [
        "import kagglehub\n",
        "\n",
        "# Download latest version\n",
        "path = kagglehub.dataset_download(\"abdelghaniaaba/wildfire-prediction-dataset\")\n",
        "\n",
        "print(\"Path to dataset files:\", path)"
      ]
    },
    {
      "cell_type": "code",
      "source": [
        "import tensorflow as tf\n",
        "from tensorflow.keras.preprocessing.image import ImageDataGenerator\n",
        "from tensorflow.keras.models import Sequential\n",
        "from tensorflow.keras.layers import Conv2D,MaxPooling2D,Flatten,Dense,Dropout\n",
        "from PIL import Image,ImageTk\n",
        "import numpy as np"
      ],
      "metadata": {
        "id": "OC1Nl6Ra8WYE"
      },
      "execution_count": 3,
      "outputs": []
    },
    {
      "cell_type": "code",
      "source": [
        "from PIL import ImageFile\n",
        "ImageFile.LOAD_TRUNCATED_IMAGES=True"
      ],
      "metadata": {
        "id": "PMssS7c3zxOk"
      },
      "execution_count": 4,
      "outputs": []
    },
    {
      "cell_type": "code",
      "source": [
        "train_dir=\"/root/.cache/kagglehub/datasets/abdelghaniaaba/wildfire-prediction-dataset/versions/1/train\"\n",
        "valid_dir=\"/root/.cache/kagglehub/datasets/abdelghaniaaba/wildfire-prediction-dataset/versions/1/valid\"\n",
        "test_dir=\"/root/.cache/kagglehub/datasets/abdelghaniaaba/wildfire-prediction-dataset/versions/1/test\"\n",
        "train_datagen=ImageDataGenerator(rescale=1./255)\n",
        "valid_datagen=ImageDataGenerator(rescale=1./255)\n",
        "test_datagen=ImageDataGenerator(rescale=1./255)\n",
        "train_generator=train_datagen.flow_from_directory(train_dir,target_size=(64,64),batch_size=32,class_mode='binary')\n",
        "valid_generator=valid_datagen.flow_from_directory(valid_dir,target_size=(64,64),batch_size=32,class_mode='binary')\n",
        "test_generator=test_datagen.flow_from_directory(test_dir,target_size=(64,64),batch_size=32,class_mode='binary')"
      ],
      "metadata": {
        "colab": {
          "base_uri": "https://localhost:8080/"
        },
        "id": "R9_uKAvl0G8D",
        "outputId": "5ea66dff-f103-49d2-f4bf-814b46667df2"
      },
      "execution_count": 5,
      "outputs": [
        {
          "output_type": "stream",
          "name": "stdout",
          "text": [
            "Found 30250 images belonging to 2 classes.\n",
            "Found 6300 images belonging to 2 classes.\n",
            "Found 6300 images belonging to 2 classes.\n"
          ]
        }
      ]
    },
    {
      "cell_type": "code",
      "source": [
        "model=Sequential([\n",
        "    Conv2D(32,(3,3),activation='relu',input_shape=(64,64,3)),\n",
        "    MaxPooling2D(pool_size=(2,2)),\n",
        "    Conv2D(64,(3,3),activation='relu'),\n",
        "    MaxPooling2D(pool_size=(2,2)),\n",
        "    Flatten(),\n",
        "    Dense(128,activation='relu'),\n",
        "    Dropout(0.5),\n",
        "    Dense(1,activation='sigmoid')\n",
        "  ])\n",
        "model.compile(optimizer='adam',loss='binary_crossentropy',metrics=['accuracy'])"
      ],
      "metadata": {
        "colab": {
          "base_uri": "https://localhost:8080/"
        },
        "id": "IAmkSfCf0ZmL",
        "outputId": "16164d31-47f2-4ba1-cc28-e67cd937d082"
      },
      "execution_count": 6,
      "outputs": [
        {
          "output_type": "stream",
          "name": "stderr",
          "text": [
            "/usr/local/lib/python3.11/dist-packages/keras/src/layers/convolutional/base_conv.py:107: UserWarning: Do not pass an `input_shape`/`input_dim` argument to a layer. When using Sequential models, prefer using an `Input(shape)` object as the first layer in the model instead.\n",
            "  super().__init__(activity_regularizer=activity_regularizer, **kwargs)\n"
          ]
        }
      ]
    },
    {
      "cell_type": "code",
      "source": [
        "history =model.fit(train_generator,validation_data=valid_generator,epochs=10,verbose=1)"
      ],
      "metadata": {
        "colab": {
          "base_uri": "https://localhost:8080/"
        },
        "id": "SYY9N8h80ilD",
        "outputId": "9bbf5bb8-32fc-4b47-c57a-e5b659673c9e"
      },
      "execution_count": 7,
      "outputs": [
        {
          "output_type": "stream",
          "name": "stdout",
          "text": [
            "Epoch 1/10\n"
          ]
        },
        {
          "output_type": "stream",
          "name": "stderr",
          "text": [
            "/usr/local/lib/python3.11/dist-packages/keras/src/trainers/data_adapters/py_dataset_adapter.py:121: UserWarning: Your `PyDataset` class should call `super().__init__(**kwargs)` in its constructor. `**kwargs` can include `workers`, `use_multiprocessing`, `max_queue_size`. Do not pass these arguments to `fit()`, as they will be ignored.\n",
            "  self._warn_if_super_not_called()\n"
          ]
        },
        {
          "output_type": "stream",
          "name": "stdout",
          "text": [
            "\u001b[1m946/946\u001b[0m \u001b[32m━━━━━━━━━━━━━━━━━━━━\u001b[0m\u001b[37m\u001b[0m \u001b[1m67s\u001b[0m 66ms/step - accuracy: 0.8856 - loss: 0.2765 - val_accuracy: 0.9390 - val_loss: 0.1647\n",
            "Epoch 2/10\n",
            "\u001b[1m946/946\u001b[0m \u001b[32m━━━━━━━━━━━━━━━━━━━━\u001b[0m\u001b[37m\u001b[0m \u001b[1m56s\u001b[0m 59ms/step - accuracy: 0.9340 - loss: 0.1774 - val_accuracy: 0.9452 - val_loss: 0.1447\n",
            "Epoch 3/10\n",
            "\u001b[1m946/946\u001b[0m \u001b[32m━━━━━━━━━━━━━━━━━━━━\u001b[0m\u001b[37m\u001b[0m \u001b[1m59s\u001b[0m 62ms/step - accuracy: 0.9376 - loss: 0.1664 - val_accuracy: 0.9337 - val_loss: 0.1848\n",
            "Epoch 4/10\n",
            "\u001b[1m946/946\u001b[0m \u001b[32m━━━━━━━━━━━━━━━━━━━━\u001b[0m\u001b[37m\u001b[0m \u001b[1m56s\u001b[0m 59ms/step - accuracy: 0.9452 - loss: 0.1471 - val_accuracy: 0.9563 - val_loss: 0.1201\n",
            "Epoch 5/10\n",
            "\u001b[1m946/946\u001b[0m \u001b[32m━━━━━━━━━━━━━━━━━━━━\u001b[0m\u001b[37m\u001b[0m \u001b[1m56s\u001b[0m 59ms/step - accuracy: 0.9480 - loss: 0.1393 - val_accuracy: 0.9478 - val_loss: 0.1530\n",
            "Epoch 6/10\n",
            "\u001b[1m946/946\u001b[0m \u001b[32m━━━━━━━━━━━━━━━━━━━━\u001b[0m\u001b[37m\u001b[0m \u001b[1m57s\u001b[0m 61ms/step - accuracy: 0.9558 - loss: 0.1231 - val_accuracy: 0.9562 - val_loss: 0.1154\n",
            "Epoch 7/10\n",
            "\u001b[1m946/946\u001b[0m \u001b[32m━━━━━━━━━━━━━━━━━━━━\u001b[0m\u001b[37m\u001b[0m \u001b[1m91s\u001b[0m 70ms/step - accuracy: 0.9590 - loss: 0.1082 - val_accuracy: 0.9595 - val_loss: 0.1221\n",
            "Epoch 8/10\n",
            "\u001b[1m946/946\u001b[0m \u001b[32m━━━━━━━━━━━━━━━━━━━━\u001b[0m\u001b[37m\u001b[0m \u001b[1m61s\u001b[0m 65ms/step - accuracy: 0.9612 - loss: 0.1013 - val_accuracy: 0.9519 - val_loss: 0.1287\n",
            "Epoch 9/10\n",
            "\u001b[1m946/946\u001b[0m \u001b[32m━━━━━━━━━━━━━━━━━━━━\u001b[0m\u001b[37m\u001b[0m \u001b[1m78s\u001b[0m 60ms/step - accuracy: 0.9644 - loss: 0.0950 - val_accuracy: 0.9376 - val_loss: 0.1825\n",
            "Epoch 10/10\n",
            "\u001b[1m946/946\u001b[0m \u001b[32m━━━━━━━━━━━━━━━━━━━━\u001b[0m\u001b[37m\u001b[0m \u001b[1m56s\u001b[0m 59ms/step - accuracy: 0.9709 - loss: 0.0843 - val_accuracy: 0.9627 - val_loss: 0.1195\n"
          ]
        }
      ]
    },
    {
      "cell_type": "code",
      "source": [
        "def predict_image(file_path):\n",
        "\n",
        "  img_for_model=Image.open(file_path).resize((64,64))\n",
        "  img_array=np.array(img_for_model)/255.0\n",
        "  img_array=np.expand_dims(img_array,axis=0)\n",
        "  prediction=model.predict(img_array)[0][0]\n",
        "  result=\"Wildfire\" if prediction>0.5 else \"No Wildfire\"\n",
        "image_path=\"/content/-73.602,45.421799.jpg\"\n",
        "prediction_result=predict_image(image_path)\n",
        "print(f\"prediction for {image_path}: {prediction_result}\")\n",
        "\n"
      ],
      "metadata": {
        "colab": {
          "base_uri": "https://localhost:8080/"
        },
        "id": "EElXUL3z0o4z",
        "outputId": "04fb6301-3259-4e31-bdf7-3fe61f3bf813"
      },
      "execution_count": 19,
      "outputs": [
        {
          "output_type": "stream",
          "name": "stdout",
          "text": [
            "\u001b[1m1/1\u001b[0m \u001b[32m━━━━━━━━━━━━━━━━━━━━\u001b[0m\u001b[37m\u001b[0m \u001b[1m0s\u001b[0m 348ms/step\n",
            "prediction for /content/-73.602,45.421799.jpg: None\n"
          ]
        }
      ]
    },
    {
      "cell_type": "code",
      "source": [
        "def predict_image(file_path):\n",
        "  \"\"\"Predicts the class of an image and returns result.\n",
        "  Args:\n",
        "       file_path (str):The path to the image file.\n",
        "   Returns:\n",
        "       str:The prediction result(\"Wildfire\" or \"No Wildfire\").\n",
        "       \"\"\"\n",
        "  img_for_model=Image.open(file_path).resize((64,64))\n",
        "  img_array=np.array(img_for_model)\n",
        "  img_array=np.expand_dims(img_array,axis=0)\n",
        "  prediction=model.predict(img_array)[0][0]\n",
        "  result=\"Wildfire\" if prediction>0.5 else \"No Wildfire\"\n",
        "image_path=\"/content/-73.6637,45.419342.jpg\"\n",
        "prediction_result=predict_image(image_path)\n",
        "print(f\"prediction for {image_path}: {prediction_result}\")\n",
        "\n"
      ],
      "metadata": {
        "colab": {
          "base_uri": "https://localhost:8080/"
        },
        "id": "RRS4nOAZ5oBN",
        "outputId": "a7a76186-cbc9-4b9f-f738-ffa72c51ff08"
      },
      "execution_count": 14,
      "outputs": [
        {
          "output_type": "stream",
          "name": "stdout",
          "text": [
            "\u001b[1m1/1\u001b[0m \u001b[32m━━━━━━━━━━━━━━━━━━━━\u001b[0m\u001b[37m\u001b[0m \u001b[1m0s\u001b[0m 54ms/step\n",
            "prediction for /content/-73.6637,45.419342.jpg: None\n"
          ]
        }
      ]
    },
    {
      "cell_type": "code",
      "source": [
        "def predict_image(file_path):\n",
        "  \"\"\"Predicts the class of an image and returns result.\n",
        "  Args:\n",
        "       file_path (str):The path to the image file.\n",
        "   Returns:\n",
        "       str:The prediction result(\"Wildfire\" or \"No Wildfire\").\n",
        "       \"\"\"\n",
        "  img_for_model=Image.open(file_path).resize((64,64))\n",
        "  img_array=np.array(img_for_model)\n",
        "  img_array=np.expand_dims(img_array,axis=0)\n",
        "  prediction=model.predict(img_array)[0][0]\n",
        "  result=\"Wildfire\" if prediction>0.5 else \"No Wildfire\"\n",
        "image_path=\"/content/WhatsApp Image 2025-03-14 at 9.46.41 AM (1).jpeg\"\n",
        "prediction_result=predict_image(image_path)\n",
        "print(f\"prediction for {image_path}: {prediction_result}\")"
      ],
      "metadata": {
        "colab": {
          "base_uri": "https://localhost:8080/"
        },
        "id": "C8Wz5LNz6Jum",
        "outputId": "c164cf01-1b57-4744-c28c-3b9036bf0702"
      },
      "execution_count": 16,
      "outputs": [
        {
          "output_type": "stream",
          "name": "stdout",
          "text": [
            "\u001b[1m1/1\u001b[0m \u001b[32m━━━━━━━━━━━━━━━━━━━━\u001b[0m\u001b[37m\u001b[0m \u001b[1m0s\u001b[0m 36ms/step\n",
            "prediction for /content/WhatsApp Image 2025-03-14 at 9.46.41 AM (1).jpeg: None\n"
          ]
        }
      ]
    },
    {
      "cell_type": "code",
      "source": [
        "def predict_image(file_path):\n",
        "  \"\"\"Predicts the class of an image and returns result.\n",
        "  Args:\n",
        "       file_path (str):The path to the image file.\n",
        "   Returns:\n",
        "       str:The prediction result(\"Wildfire\" or \"No Wildfire\").\n",
        "       \"\"\"\n",
        "  img_for_model=Image.open(file_path).resize((64,64))\n",
        "  img_array=np.array(img_for_model)\n",
        "  img_array=np.expand_dims(img_array,axis=0)\n",
        "  prediction=model.predict(img_array)[0][0]\n",
        "  result=\"Wildfire\" if prediction>0.5 else \"No Wildfire\"\n",
        "image_path=\"/content/WhatsApp Image 2025-03-14 at 9.46.41 AM.jpeg\"\n",
        "prediction_result=predict_image(image_path)\n",
        "print(f\"prediction for {image_path}: {prediction_result}\")"
      ],
      "metadata": {
        "colab": {
          "base_uri": "https://localhost:8080/"
        },
        "id": "Gceq980A6XEq",
        "outputId": "b813b576-71b9-40a7-a353-061e3e010d2e"
      },
      "execution_count": 17,
      "outputs": [
        {
          "output_type": "stream",
          "name": "stdout",
          "text": [
            "\u001b[1m1/1\u001b[0m \u001b[32m━━━━━━━━━━━━━━━━━━━━\u001b[0m\u001b[37m\u001b[0m \u001b[1m0s\u001b[0m 35ms/step\n",
            "prediction for /content/WhatsApp Image 2025-03-14 at 9.46.41 AM.jpeg: None\n"
          ]
        }
      ]
    },
    {
      "cell_type": "code",
      "source": [
        "def predict_image(file_path):\n",
        "    img_for_model=Image.open(file_path).resize((64,64))\n",
        "    img_array=np.array(img_for_model)/255.0\n",
        "    img_array=np.expand_dims(img_array,axis=0)\n",
        "    prediction=model.predict(img_array)[0][0]\n",
        "    result=\"wildfire\"if prediction>0.5 else \"No wildfire\"\n",
        "    return result\n",
        "image_path=\"/content/-73.602,45.421799.jpg\"\n",
        "prediction_result=predict_image(image_path)\n",
        "print(f\"prediction for{image_path}:{prediction_result}\")"
      ],
      "metadata": {
        "colab": {
          "base_uri": "https://localhost:8080/"
        },
        "id": "e2MvWwCW7rtq",
        "outputId": "99a0f821-069f-427b-dc4c-d3d03a45f125"
      },
      "execution_count": 20,
      "outputs": [
        {
          "output_type": "stream",
          "name": "stdout",
          "text": [
            "\u001b[1m1/1\u001b[0m \u001b[32m━━━━━━━━━━━━━━━━━━━━\u001b[0m\u001b[37m\u001b[0m \u001b[1m0s\u001b[0m 34ms/step\n",
            "prediction for/content/-73.602,45.421799.jpg:No wildfire\n"
          ]
        }
      ]
    },
    {
      "cell_type": "code",
      "source": [
        "def predict_image(file_path):\n",
        "    img_for_model=Image.open(file_path).resize((64,64))\n",
        "    img_array=np.array(img_for_model)/255.0\n",
        "    img_array=np.expand_dims(img_array,axis=0)\n",
        "    prediction=model.predict(img_array)[0][0]\n",
        "    result=\"wildfire\"if prediction>0.5 else \"No wildfire\"\n",
        "    return result\n",
        "image_path=\"/content/-73.6637,45.419342.jpg\"\n",
        "prediction_result=predict_image(image_path)\n",
        "print(f\"prediction for{image_path}:{prediction_result}\")"
      ],
      "metadata": {
        "colab": {
          "base_uri": "https://localhost:8080/"
        },
        "id": "Poi4xqmG8DBR",
        "outputId": "78fa2a5e-8276-4172-9766-ede1a735e8a1"
      },
      "execution_count": 21,
      "outputs": [
        {
          "output_type": "stream",
          "name": "stdout",
          "text": [
            "\u001b[1m1/1\u001b[0m \u001b[32m━━━━━━━━━━━━━━━━━━━━\u001b[0m\u001b[37m\u001b[0m \u001b[1m0s\u001b[0m 33ms/step\n",
            "prediction for/content/-73.6637,45.419342.jpg:No wildfire\n"
          ]
        }
      ]
    },
    {
      "cell_type": "code",
      "source": [
        "def predict_image(file_path):\n",
        "    img_for_model=Image.open(file_path).resize((64,64))\n",
        "    img_array=np.array(img_for_model)/255.0\n",
        "    img_array=np.expand_dims(img_array,axis=0)\n",
        "    prediction=model.predict(img_array)[0][0]\n",
        "    result=\"wildfire\"if prediction>0.5 else \"No wildfire\"\n",
        "    return result\n",
        "image_path=\"/content/WhatsApp Image 2025-03-14 at 9.46.41 AM (1).jpeg\"\n",
        "prediction_result=predict_image(image_path)\n",
        "print(f\"prediction for{image_path}:{prediction_result}\")"
      ],
      "metadata": {
        "colab": {
          "base_uri": "https://localhost:8080/"
        },
        "id": "Nf9bDoX-8Mp5",
        "outputId": "eb57c5db-55a0-4252-dfc4-a0f60bab6050"
      },
      "execution_count": 22,
      "outputs": [
        {
          "output_type": "stream",
          "name": "stdout",
          "text": [
            "\u001b[1m1/1\u001b[0m \u001b[32m━━━━━━━━━━━━━━━━━━━━\u001b[0m\u001b[37m\u001b[0m \u001b[1m0s\u001b[0m 33ms/step\n",
            "prediction for/content/WhatsApp Image 2025-03-14 at 9.46.41 AM (1).jpeg:wildfire\n"
          ]
        }
      ]
    },
    {
      "cell_type": "code",
      "source": [
        "def predict_image(file_path):\n",
        "    img_for_model=Image.open(file_path).resize((64,64))\n",
        "    img_array=np.array(img_for_model)/255.0\n",
        "    img_array=np.expand_dims(img_array,axis=0)\n",
        "    prediction=model.predict(img_array)[0][0]\n",
        "    result=\"wildfire\"if prediction>0.5 else \"No wildfire\"\n",
        "    return result\n",
        "image_path=\"/content/WhatsApp Image 2025-03-14 at 9.46.41 AM.jpeg\"\n",
        "prediction_result=predict_image(image_path)\n",
        "print(f\"prediction for{image_path}:{prediction_result}\")"
      ],
      "metadata": {
        "colab": {
          "base_uri": "https://localhost:8080/"
        },
        "id": "kUiDiycr8UKJ",
        "outputId": "3cf1a086-aad4-4993-b094-fb3862a041b6"
      },
      "execution_count": 23,
      "outputs": [
        {
          "output_type": "stream",
          "name": "stdout",
          "text": [
            "\u001b[1m1/1\u001b[0m \u001b[32m━━━━━━━━━━━━━━━━━━━━\u001b[0m\u001b[37m\u001b[0m \u001b[1m0s\u001b[0m 33ms/step\n",
            "prediction for/content/WhatsApp Image 2025-03-14 at 9.46.41 AM.jpeg:wildfire\n"
          ]
        }
      ]
    },
    {
      "cell_type": "code",
      "source": [],
      "metadata": {
        "colab": {
          "base_uri": "https://localhost:8080/"
        },
        "id": "PJXFqiNu9FFw",
        "outputId": "482cfc37-5e37-48f0-a212-ed7963815468"
      },
      "execution_count": 25,
      "outputs": [
        {
          "output_type": "stream",
          "name": "stdout",
          "text": [
            "Path to dataset files: /root/.cache/kagglehub/datasets/techsash/waste-classification-data/versions/1\n"
          ]
        }
      ]
    }
  ]
}